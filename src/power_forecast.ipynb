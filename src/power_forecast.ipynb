{
 "cells": [
  {
   "cell_type": "code",
   "execution_count": 328,
   "metadata": {},
   "outputs": [],
   "source": [
    "# imports\n",
    "import numpy as np\n",
    "import pandas as pd\n",
    "import matplotlib.pyplot as plt\n",
    "import datetime as dt\n",
    "import math\n",
    "import pickle\n",
    "from sklearn.ensemble import RandomForestRegressor\n",
    "from sklearn.metrics import mean_squared_error\n",
    "from sklearn.model_selection import RandomizedSearchCV"
   ]
  },
  {
   "cell_type": "code",
   "execution_count": 329,
   "metadata": {},
   "outputs": [],
   "source": [
    "# read csv\n",
    "power_actual = pd.read_csv('../data/power_actual.csv', parse_dates=['datetime'], infer_datetime_format=True)\n",
    "weather_actuals = pd.read_csv('../data/weather_actuals.csv', parse_dates=['datetime_local'], infer_datetime_format=True)\n",
    "weather_forecast = pd.read_csv('../data/weather_forecast.csv', parse_dates=['datetime_local'], infer_datetime_format=True)"
   ]
  },
  {
   "cell_type": "code",
   "execution_count": 330,
   "metadata": {},
   "outputs": [
    {
     "name": "stdout",
     "output_type": "stream",
     "text": [
      "Power Actual (70080, 5)\n",
      "Weather Actual (13619, 31)\n",
      "Weather Forecast (648, 31)\n"
     ]
    }
   ],
   "source": [
    "# shape\n",
    "print(\"Power Actual\", power_actual.shape)\n",
    "print(\"Weather Actual\", weather_actuals.shape)\n",
    "print(\"Weather Forecast\", weather_forecast.shape)"
   ]
  },
  {
   "cell_type": "code",
   "execution_count": 331,
   "metadata": {},
   "outputs": [
    {
     "name": "stdout",
     "output_type": "stream",
     "text": [
      "Power Actual Columns Index(['Unnamed: 0', 'datetime', 'ghi', 'gti', 'power'], dtype='object')\n",
      "Weather Actual Columns Index(['Unnamed: 0', 'plant_id', 'datetime_utc', 'datetime_local',\n",
      "       'cloud_cover', 'apparent_temperature', 'temperature', 'humidity',\n",
      "       'dew_point', 'wind_bearing', 'wind_speed', 'wind_chill', 'wind_gust',\n",
      "       'heat_index', 'pressure', 'qpf', 'uv_index', 'snow', 'pop', 'fctcode',\n",
      "       'ozone', 'precip_accumulation', 'precip_intensity',\n",
      "       'precip_probability', 'precip_type', 'visibility', 'sunrise', 'sunset',\n",
      "       'icon', 'summary', 'updated_at'],\n",
      "      dtype='object')\n",
      "Weather Forecast Columns Index(['Unnamed: 0', 'plant_id', 'datetime_utc', 'datetime_local',\n",
      "       'cloud_cover', 'apparent_temperature', 'temperature', 'humidity',\n",
      "       'dew_point', 'wind_bearing', 'wind_speed', 'wind_chill', 'wind_gust',\n",
      "       'heat_index', 'pressure', 'qpf', 'uv_index', 'snow', 'pop', 'fctcode',\n",
      "       'ozone', 'precip_accumulation', 'precip_intensity',\n",
      "       'precip_probability', 'precip_type', 'visibility', 'sunrise', 'sunset',\n",
      "       'icon', 'summary', 'updated_at'],\n",
      "      dtype='object')\n"
     ]
    }
   ],
   "source": [
    "print(\"Power Actual Columns\", power_actual.columns)\n",
    "print(\"Weather Actual Columns\", weather_actuals.columns)\n",
    "print(\"Weather Forecast Columns\", weather_forecast.columns)"
   ]
  },
  {
   "cell_type": "code",
   "execution_count": 332,
   "metadata": {},
   "outputs": [
    {
     "name": "stdout",
     "output_type": "stream",
     "text": [
      "<class 'pandas.core.frame.DataFrame'>\n",
      "RangeIndex: 70080 entries, 0 to 70079\n",
      "Data columns (total 5 columns):\n",
      " #   Column      Non-Null Count  Dtype         \n",
      "---  ------      --------------  -----         \n",
      " 0   Unnamed: 0  70080 non-null  int64         \n",
      " 1   datetime    70080 non-null  datetime64[ns]\n",
      " 2   ghi         35040 non-null  float64       \n",
      " 3   gti         35040 non-null  float64       \n",
      " 4   power       70080 non-null  float64       \n",
      "dtypes: datetime64[ns](1), float64(3), int64(1)\n",
      "memory usage: 2.7 MB\n",
      "Power Actual \n",
      " None\n",
      "<class 'pandas.core.frame.DataFrame'>\n",
      "RangeIndex: 13619 entries, 0 to 13618\n",
      "Data columns (total 31 columns):\n",
      " #   Column                Non-Null Count  Dtype         \n",
      "---  ------                --------------  -----         \n",
      " 0   Unnamed: 0            13619 non-null  int64         \n",
      " 1   plant_id              13619 non-null  int64         \n",
      " 2   datetime_utc          13619 non-null  object        \n",
      " 3   datetime_local        13619 non-null  datetime64[ns]\n",
      " 4   cloud_cover           13619 non-null  float64       \n",
      " 5   apparent_temperature  13619 non-null  float64       \n",
      " 6   temperature           13619 non-null  int64         \n",
      " 7   humidity              13619 non-null  int64         \n",
      " 8   dew_point             13619 non-null  float64       \n",
      " 9   wind_bearing          13619 non-null  int64         \n",
      " 10  wind_speed            13619 non-null  float64       \n",
      " 11  wind_chill            3744 non-null   float64       \n",
      " 12  wind_gust             13619 non-null  float64       \n",
      " 13  heat_index            3744 non-null   float64       \n",
      " 14  pressure              13619 non-null  float64       \n",
      " 15  qpf                   3744 non-null   float64       \n",
      " 16  uv_index              13619 non-null  int64         \n",
      " 17  snow                  3744 non-null   float64       \n",
      " 18  pop                   3744 non-null   float64       \n",
      " 19  fctcode               3744 non-null   float64       \n",
      " 20  ozone                 13619 non-null  float64       \n",
      " 21  precip_accumulation   3744 non-null   float64       \n",
      " 22  precip_intensity      13619 non-null  float64       \n",
      " 23  precip_probability    13619 non-null  float64       \n",
      " 24  precip_type           6490 non-null   object        \n",
      " 25  visibility            13619 non-null  float64       \n",
      " 26  sunrise               13619 non-null  object        \n",
      " 27  sunset                13619 non-null  object        \n",
      " 28  icon                  13619 non-null  object        \n",
      " 29  summary               13619 non-null  object        \n",
      " 30  updated_at            13619 non-null  object        \n",
      "dtypes: datetime64[ns](1), float64(17), int64(6), object(7)\n",
      "memory usage: 3.2+ MB\n",
      "Weather Actual \n",
      " None\n",
      "<class 'pandas.core.frame.DataFrame'>\n",
      "RangeIndex: 648 entries, 0 to 647\n",
      "Data columns (total 31 columns):\n",
      " #   Column                Non-Null Count  Dtype         \n",
      "---  ------                --------------  -----         \n",
      " 0   Unnamed: 0            648 non-null    int64         \n",
      " 1   plant_id              648 non-null    int64         \n",
      " 2   datetime_utc          648 non-null    object        \n",
      " 3   datetime_local        648 non-null    datetime64[ns]\n",
      " 4   cloud_cover           648 non-null    float64       \n",
      " 5   apparent_temperature  648 non-null    float64       \n",
      " 6   temperature           648 non-null    int64         \n",
      " 7   humidity              648 non-null    int64         \n",
      " 8   dew_point             648 non-null    float64       \n",
      " 9   wind_bearing          648 non-null    int64         \n",
      " 10  wind_speed            648 non-null    float64       \n",
      " 11  wind_chill            0 non-null      float64       \n",
      " 12  wind_gust             648 non-null    float64       \n",
      " 13  heat_index            0 non-null      float64       \n",
      " 14  pressure              648 non-null    float64       \n",
      " 15  qpf                   0 non-null      float64       \n",
      " 16  uv_index              648 non-null    int64         \n",
      " 17  snow                  0 non-null      float64       \n",
      " 18  pop                   0 non-null      float64       \n",
      " 19  fctcode               0 non-null      float64       \n",
      " 20  ozone                 648 non-null    float64       \n",
      " 21  precip_accumulation   0 non-null      float64       \n",
      " 22  precip_intensity      648 non-null    float64       \n",
      " 23  precip_probability    648 non-null    float64       \n",
      " 24  precip_type           114 non-null    object        \n",
      " 25  visibility            648 non-null    float64       \n",
      " 26  sunrise               648 non-null    object        \n",
      " 27  sunset                648 non-null    object        \n",
      " 28  icon                  648 non-null    object        \n",
      " 29  summary               648 non-null    object        \n",
      " 30  updated_at            648 non-null    object        \n",
      "dtypes: datetime64[ns](1), float64(17), int64(6), object(7)\n",
      "memory usage: 157.1+ KB\n",
      "Weather Forecast \n",
      " None\n"
     ]
    }
   ],
   "source": [
    "print(\"Power Actual \\n\", power_actual.info())\n",
    "print(\"Weather Actual \\n\", weather_actuals.info())\n",
    "print(\"Weather Forecast \\n\", weather_forecast.info())"
   ]
  },
  {
   "cell_type": "code",
   "execution_count": 333,
   "metadata": {},
   "outputs": [],
   "source": [
    "# convert power actual to df and extract features from datetime columns\n",
    "left = pd.DataFrame()\n",
    "# day\n",
    "left['Day'] = power_actual['datetime'].dt.day\n",
    "# month\n",
    "left['Month'] = power_actual['datetime'].dt.month\n",
    "# year\n",
    "left['Year'] = power_actual['datetime'].dt.year\n",
    "# hour\n",
    "left['Start_hour'] = power_actual['datetime'].dt.hour\n",
    "# minute\n",
    "left['Start_minute'] = power_actual['datetime'].dt.minute\n",
    "# add power_actual to df \n",
    "left['datetime'] = power_actual['datetime']\n",
    "left['ghi'] = power_actual['ghi']\n",
    "left['gti'] = power_actual['gti']\n",
    "left['power'] = power_actual['power']"
   ]
  },
  {
   "cell_type": "code",
   "execution_count": 334,
   "metadata": {},
   "outputs": [
    {
     "name": "stdout",
     "output_type": "stream",
     "text": [
      "   Day  Month  Year  Start_hour  Start_minute            datetime  ghi  gti  \\\n",
      "0    1     10  2017           0             0 2017-10-01 00:00:00  0.0  0.0   \n",
      "1    1     10  2017           0            15 2017-10-01 00:15:00  0.0  0.0   \n",
      "2    1     10  2017           0            30 2017-10-01 00:30:00  0.0  0.0   \n",
      "3    1     10  2017           0            45 2017-10-01 00:45:00  0.0  0.0   \n",
      "4    1     10  2017           1             0 2017-10-01 01:00:00  0.0  0.0   \n",
      "\n",
      "   power  \n",
      "0    0.0  \n",
      "1    0.0  \n",
      "2    0.0  \n",
      "3    0.0  \n",
      "4    0.0  \n"
     ]
    }
   ],
   "source": [
    "# check\n",
    "print(left.head())"
   ]
  },
  {
   "cell_type": "code",
   "execution_count": 335,
   "metadata": {},
   "outputs": [],
   "source": [
    "# convert weather_actuals to df and extract features from datetime columns\n",
    "right = pd.DataFrame()\n",
    "\n",
    "# to dataframe\n",
    "right = weather_actuals\n",
    "# day\n",
    "right['Day'] = weather_actuals['datetime_local'].dt.day\n",
    "# month\n",
    "right['Month'] = weather_actuals['datetime_local'].dt.month\n",
    "# year\n",
    "right['Year'] = weather_actuals['datetime_local'].dt.year\n",
    "# hour\n",
    "right['Start_hour'] = weather_actuals['datetime_local'].dt.hour\n",
    "# minute\n",
    "right['Start_minute'] = weather_actuals['datetime_local'].dt.minute"
   ]
  },
  {
   "cell_type": "code",
   "execution_count": 336,
   "metadata": {},
   "outputs": [
    {
     "name": "stdout",
     "output_type": "stream",
     "text": [
      "   Unnamed: 0  plant_id         datetime_utc      datetime_local  cloud_cover  \\\n",
      "0           0         1  2017-09-30 18:30:00 2017-10-01 00:00:00          0.0   \n",
      "1           1         1  2017-09-30 19:30:00 2017-10-01 01:00:00          0.0   \n",
      "2           2         1  2017-09-30 20:30:00 2017-10-01 02:00:00          0.0   \n",
      "3           3         1  2017-09-30 21:30:00 2017-10-01 03:00:00          0.0   \n",
      "4           4         1  2017-09-30 22:30:00 2017-10-01 04:00:00          0.0   \n",
      "\n",
      "   apparent_temperature  temperature  humidity  dew_point  wind_bearing  ...  \\\n",
      "0                 26.52           26         1      19.46           308  ...   \n",
      "1                 28.78           27         1      20.06         -9999  ...   \n",
      "2                 26.58           26         1      19.97         -9999  ...   \n",
      "3                 23.84           23         1      18.66           270  ...   \n",
      "4                 24.13           24         1      17.84         -9999  ...   \n",
      "\n",
      "               sunrise               sunset         icon  summary  \\\n",
      "0  2017-10-01 00:52:02  2017-10-01 12:45:07  clear-night    Clear   \n",
      "1  2017-10-01 00:52:02  2017-10-01 12:45:07          fog    Foggy   \n",
      "2  2017-10-01 00:52:02  2017-10-01 12:45:07          fog    Foggy   \n",
      "3  2017-10-01 00:52:02  2017-10-01 12:45:07  clear-night    Clear   \n",
      "4  2017-10-01 00:52:02  2017-10-01 12:45:07          fog    Foggy   \n",
      "\n",
      "            updated_at  Day  Month  Year  Start_hour  Start_minute  \n",
      "0  2019-07-16 16:37:16    1     10  2017           0             0  \n",
      "1  2019-07-16 16:37:16    1     10  2017           1             0  \n",
      "2  2019-07-16 16:37:16    1     10  2017           2             0  \n",
      "3  2019-07-16 16:37:16    1     10  2017           3             0  \n",
      "4  2019-07-16 16:37:16    1     10  2017           4             0  \n",
      "\n",
      "[5 rows x 36 columns]\n"
     ]
    }
   ],
   "source": [
    "# check\n",
    "print(right.head())"
   ]
  },
  {
   "cell_type": "code",
   "execution_count": 337,
   "metadata": {},
   "outputs": [],
   "source": [
    "# merge power and weather dataframes\n",
    "merged = left.join(right, on='Start_hour', how='left', lsuffix='_left', rsuffix='_right')"
   ]
  },
  {
   "cell_type": "code",
   "execution_count": 339,
   "metadata": {},
   "outputs": [
    {
     "name": "stdout",
     "output_type": "stream",
     "text": [
      "   Day_left  Month_left  Year_left  Start_hour_left  Start_minute_left  \\\n",
      "0         1          10       2017                0                  0   \n",
      "1         1          10       2017                0                 15   \n",
      "2         1          10       2017                0                 30   \n",
      "3         1          10       2017                0                 45   \n",
      "4         1          10       2017                1                  0   \n",
      "\n",
      "             datetime  ghi  gti  power  Unnamed: 0  ...              sunrise  \\\n",
      "0 2017-10-01 00:00:00  0.0  0.0    0.0           0  ...  2017-10-01 00:52:02   \n",
      "1 2017-10-01 00:15:00  0.0  0.0    0.0           0  ...  2017-10-01 00:52:02   \n",
      "2 2017-10-01 00:30:00  0.0  0.0    0.0           0  ...  2017-10-01 00:52:02   \n",
      "3 2017-10-01 00:45:00  0.0  0.0    0.0           0  ...  2017-10-01 00:52:02   \n",
      "4 2017-10-01 01:00:00  0.0  0.0    0.0           1  ...  2017-10-01 00:52:02   \n",
      "\n",
      "                sunset         icon  summary           updated_at  Day_right  \\\n",
      "0  2017-10-01 12:45:07  clear-night    Clear  2019-07-16 16:37:16          1   \n",
      "1  2017-10-01 12:45:07  clear-night    Clear  2019-07-16 16:37:16          1   \n",
      "2  2017-10-01 12:45:07  clear-night    Clear  2019-07-16 16:37:16          1   \n",
      "3  2017-10-01 12:45:07  clear-night    Clear  2019-07-16 16:37:16          1   \n",
      "4  2017-10-01 12:45:07          fog    Foggy  2019-07-16 16:37:16          1   \n",
      "\n",
      "   Month_right  Year_right  Start_hour_right  Start_minute_right  \n",
      "0           10        2017                 0                   0  \n",
      "1           10        2017                 0                   0  \n",
      "2           10        2017                 0                   0  \n",
      "3           10        2017                 0                   0  \n",
      "4           10        2017                 1                   0  \n",
      "\n",
      "[5 rows x 45 columns]\n"
     ]
    }
   ],
   "source": [
    "print(merged.head())"
   ]
  },
  {
   "cell_type": "code",
   "execution_count": 340,
   "metadata": {
    "scrolled": true
   },
   "outputs": [
    {
     "name": "stdout",
     "output_type": "stream",
     "text": [
      "Index(['Day_left', 'Month_left', 'Year_left', 'Start_hour_left',\n",
      "       'Start_minute_left', 'datetime', 'ghi', 'gti', 'power', 'Unnamed: 0',\n",
      "       'plant_id', 'datetime_utc', 'datetime_local', 'cloud_cover',\n",
      "       'apparent_temperature', 'temperature', 'humidity', 'dew_point',\n",
      "       'wind_bearing', 'wind_speed', 'wind_chill', 'wind_gust', 'heat_index',\n",
      "       'pressure', 'qpf', 'uv_index', 'snow', 'pop', 'fctcode', 'ozone',\n",
      "       'precip_accumulation', 'precip_intensity', 'precip_probability',\n",
      "       'precip_type', 'visibility', 'sunrise', 'sunset', 'icon', 'summary',\n",
      "       'updated_at', 'Day_right', 'Month_right', 'Year_right',\n",
      "       'Start_hour_right', 'Start_minute_right'],\n",
      "      dtype='object')\n"
     ]
    }
   ],
   "source": [
    "# check columns\n",
    "print(merged.columns)"
   ]
  },
  {
   "cell_type": "code",
   "execution_count": 341,
   "metadata": {},
   "outputs": [],
   "source": [
    "# create dataframe which will be used for predictions\n",
    "merged = merged[['Start_hour_left','Month_left','Year_left',\n",
    "                 'apparent_temperature', 'humidity', 'dew_point',\n",
    "                  'visibility', 'power']]"
   ]
  },
  {
   "cell_type": "code",
   "execution_count": 342,
   "metadata": {},
   "outputs": [],
   "source": [
    "# save to csv\n",
    "merged.to_csv('merged.csv', index=False)"
   ]
  },
  {
   "cell_type": "code",
   "execution_count": 343,
   "metadata": {},
   "outputs": [
    {
     "data": {
      "text/html": [
       "<div>\n",
       "<style scoped>\n",
       "    .dataframe tbody tr th:only-of-type {\n",
       "        vertical-align: middle;\n",
       "    }\n",
       "\n",
       "    .dataframe tbody tr th {\n",
       "        vertical-align: top;\n",
       "    }\n",
       "\n",
       "    .dataframe thead th {\n",
       "        text-align: right;\n",
       "    }\n",
       "</style>\n",
       "<table border=\"1\" class=\"dataframe\">\n",
       "  <thead>\n",
       "    <tr style=\"text-align: right;\">\n",
       "      <th></th>\n",
       "      <th>Start_hour_left</th>\n",
       "      <th>Month_left</th>\n",
       "      <th>Year_left</th>\n",
       "      <th>apparent_temperature</th>\n",
       "      <th>humidity</th>\n",
       "      <th>dew_point</th>\n",
       "      <th>visibility</th>\n",
       "      <th>power</th>\n",
       "    </tr>\n",
       "  </thead>\n",
       "  <tbody>\n",
       "    <tr>\n",
       "      <th>0</th>\n",
       "      <td>0</td>\n",
       "      <td>10</td>\n",
       "      <td>2017</td>\n",
       "      <td>26.52</td>\n",
       "      <td>1</td>\n",
       "      <td>19.46</td>\n",
       "      <td>3.57</td>\n",
       "      <td>0.0</td>\n",
       "    </tr>\n",
       "    <tr>\n",
       "      <th>1</th>\n",
       "      <td>0</td>\n",
       "      <td>10</td>\n",
       "      <td>2017</td>\n",
       "      <td>26.52</td>\n",
       "      <td>1</td>\n",
       "      <td>19.46</td>\n",
       "      <td>3.57</td>\n",
       "      <td>0.0</td>\n",
       "    </tr>\n",
       "    <tr>\n",
       "      <th>2</th>\n",
       "      <td>0</td>\n",
       "      <td>10</td>\n",
       "      <td>2017</td>\n",
       "      <td>26.52</td>\n",
       "      <td>1</td>\n",
       "      <td>19.46</td>\n",
       "      <td>3.57</td>\n",
       "      <td>0.0</td>\n",
       "    </tr>\n",
       "    <tr>\n",
       "      <th>3</th>\n",
       "      <td>0</td>\n",
       "      <td>10</td>\n",
       "      <td>2017</td>\n",
       "      <td>26.52</td>\n",
       "      <td>1</td>\n",
       "      <td>19.46</td>\n",
       "      <td>3.57</td>\n",
       "      <td>0.0</td>\n",
       "    </tr>\n",
       "    <tr>\n",
       "      <th>4</th>\n",
       "      <td>1</td>\n",
       "      <td>10</td>\n",
       "      <td>2017</td>\n",
       "      <td>28.78</td>\n",
       "      <td>1</td>\n",
       "      <td>20.06</td>\n",
       "      <td>3.06</td>\n",
       "      <td>0.0</td>\n",
       "    </tr>\n",
       "  </tbody>\n",
       "</table>\n",
       "</div>"
      ],
      "text/plain": [
       "   Start_hour_left  Month_left  Year_left  apparent_temperature  humidity  \\\n",
       "0                0          10       2017                 26.52         1   \n",
       "1                0          10       2017                 26.52         1   \n",
       "2                0          10       2017                 26.52         1   \n",
       "3                0          10       2017                 26.52         1   \n",
       "4                1          10       2017                 28.78         1   \n",
       "\n",
       "   dew_point  visibility  power  \n",
       "0      19.46        3.57    0.0  \n",
       "1      19.46        3.57    0.0  \n",
       "2      19.46        3.57    0.0  \n",
       "3      19.46        3.57    0.0  \n",
       "4      20.06        3.06    0.0  "
      ]
     },
     "execution_count": 343,
     "metadata": {},
     "output_type": "execute_result"
    }
   ],
   "source": [
    "# check\n",
    "print(merged.head())"
   ]
  },
  {
   "cell_type": "code",
   "execution_count": 344,
   "metadata": {},
   "outputs": [],
   "source": [
    "# train and validation datset, keeping last 30 days of readings in validation \n",
    "X_train = merged[:67200]\n",
    "X_valid = merged[-2880:]\n",
    "y_train = X_train['power']\n",
    "y_valid = X_valid['power']"
   ]
  },
  {
   "cell_type": "code",
   "execution_count": 345,
   "metadata": {},
   "outputs": [],
   "source": [
    "# drop power column\n",
    "X_train = X_train.drop(['power'],axis=1)\n",
    "X_valid = X_valid.drop(['power'],axis=1)"
   ]
  },
  {
   "cell_type": "code",
   "execution_count": 346,
   "metadata": {},
   "outputs": [
    {
     "name": "stdout",
     "output_type": "stream",
     "text": [
      "Train data  (67200, 7) (67200,)\n",
      "Validation data  (2880, 7) (2880,)\n"
     ]
    }
   ],
   "source": [
    "# check\n",
    "print(\"Train data \", X_train.shape, y_train.shape)\n",
    "print(\"Validation data \", X_valid.shape, y_valid.shape)"
   ]
  },
  {
   "cell_type": "code",
   "execution_count": 349,
   "metadata": {},
   "outputs": [],
   "source": [
    "# prepare test data\n",
    "# convert weather_forecast to df\n",
    "test = weather_forecast\n",
    "# day\n",
    "test['Day'] = test['datetime_local'].dt.day\n",
    "# month\n",
    "test['Month'] = test['datetime_local'].dt.month\n",
    "# year\n",
    "test['Year'] = test['datetime_local'].dt.year\n",
    "# hour\n",
    "test['Start_hour'] = test['datetime_local'].dt.hour\n",
    "# minute\n",
    "test['Start_minute'] = test['datetime_local'].dt.minute\n",
    "\n",
    "test = test[['Start_hour','Month','Year','apparent_temperature','humidity','dew_point','visibility']]"
   ]
  },
  {
   "cell_type": "code",
   "execution_count": 351,
   "metadata": {},
   "outputs": [
    {
     "name": "stdout",
     "output_type": "stream",
     "text": [
      "Test Data     Start_hour  Month  Year  apparent_temperature  humidity  dew_point  \\\n",
      "0           0     10  2019                 26.41         1      22.01   \n",
      "1           1     10  2019                 25.95         1      22.06   \n",
      "2           2     10  2019                 25.46         1      22.06   \n",
      "3           3     10  2019                 24.80         1      21.87   \n",
      "4           4     10  2019                 23.99         1      21.53   \n",
      "\n",
      "   visibility  \n",
      "0       16.09  \n",
      "1       16.09  \n",
      "2       16.09  \n",
      "3       16.09  \n",
      "4       16.09  \n"
     ]
    }
   ],
   "source": [
    "# check\n",
    "print(\"Test Data \", test.head())"
   ]
  },
  {
   "cell_type": "code",
   "execution_count": 352,
   "metadata": {},
   "outputs": [
    {
     "name": "stdout",
     "output_type": "stream",
     "text": [
      "Values being searched on \n",
      " {'n_estimators': [200, 400, 600, 800, 1000, 1200, 1400, 1600, 1800, 2000], 'max_depth': [10, 20, 30, 40, 50, 60, 70, 80, 90, 100, 110, None], 'min_samples_split': [2, 5, 10], 'min_samples_leaf': [1, 2, 4], 'bootstrap': [True, False]}\n"
     ]
    }
   ],
   "source": [
    "# find the best parameters for our model\n",
    "# Number of trees in random forest\n",
    "n_estimators = [int(x) for x in np.linspace(start = 200, stop = 2000, num = 10)]\n",
    "# Maximum number of levels in tree\n",
    "max_depth = [int(x) for x in np.linspace(10, 110, num = 11)]\n",
    "max_depth.append(None)\n",
    "# Minimum number of samples required to split a node\n",
    "min_samples_split = [2, 5, 10]\n",
    "# Minimum number of samples required at each leaf node\n",
    "min_samples_leaf = [1, 2, 4]\n",
    "# Method of selecting samples for training each tree\n",
    "bootstrap = [True, False]\n",
    "# Create the random grid\n",
    "random_grid = {'n_estimators': n_estimators,\n",
    "               'max_depth': max_depth,\n",
    "               'min_samples_split': min_samples_split,\n",
    "               'min_samples_leaf': min_samples_leaf,\n",
    "               'bootstrap': bootstrap}\n",
    "\n",
    "print(\"Values being searched on \\n\", random_grid)"
   ]
  },
  {
   "cell_type": "code",
   "execution_count": 353,
   "metadata": {},
   "outputs": [
    {
     "name": "stdout",
     "output_type": "stream",
     "text": [
      "Fitting 3 folds for each of 100 candidates, totalling 300 fits\n"
     ]
    },
    {
     "name": "stderr",
     "output_type": "stream",
     "text": [
      "[Parallel(n_jobs=-1)]: Using backend LokyBackend with 2 concurrent workers.\n",
      "[Parallel(n_jobs=-1)]: Done  37 tasks      | elapsed: 20.1min\n",
      "[Parallel(n_jobs=-1)]: Done 158 tasks      | elapsed: 85.9min\n",
      "[Parallel(n_jobs=-1)]: Done 300 out of 300 | elapsed: 154.4min finished\n"
     ]
    },
    {
     "data": {
      "text/plain": [
       "RandomizedSearchCV(cv=3, error_score=nan,\n",
       "                   estimator=RandomForestRegressor(bootstrap=True,\n",
       "                                                   ccp_alpha=0.0,\n",
       "                                                   criterion='mse',\n",
       "                                                   max_depth=None,\n",
       "                                                   max_features='auto',\n",
       "                                                   max_leaf_nodes=None,\n",
       "                                                   max_samples=None,\n",
       "                                                   min_impurity_decrease=0.0,\n",
       "                                                   min_impurity_split=None,\n",
       "                                                   min_samples_leaf=1,\n",
       "                                                   min_samples_split=2,\n",
       "                                                   min_weight_fraction_leaf=0.0,\n",
       "                                                   n_estimators=100,\n",
       "                                                   n_jobs=None, oob_score=Fals...\n",
       "                   iid='deprecated', n_iter=100, n_jobs=-1,\n",
       "                   param_distributions={'bootstrap': [True, False],\n",
       "                                        'max_depth': [10, 20, 30, 40, 50, 60,\n",
       "                                                      70, 80, 90, 100, 110,\n",
       "                                                      None],\n",
       "                                        'min_samples_leaf': [1, 2, 4],\n",
       "                                        'min_samples_split': [2, 5, 10],\n",
       "                                        'n_estimators': [200, 400, 600, 800,\n",
       "                                                         1000, 1200, 1400, 1600,\n",
       "                                                         1800, 2000]},\n",
       "                   pre_dispatch='2*n_jobs', random_state=42, refit=True,\n",
       "                   return_train_score=False, scoring=None, verbose=2)"
      ]
     },
     "execution_count": 353,
     "metadata": {},
     "output_type": "execute_result"
    }
   ],
   "source": [
    "# Use the random grid to search for best hyperparameters, sit back and relax this will take some time\n",
    "# First create the base model to tune\n",
    "rf = RandomForestRegressor()\n",
    "# Random search of parameters, using 3 fold cross validation, \n",
    "# search across 100 different combinations, and use all available cores\n",
    "rf_random = RandomizedSearchCV(estimator = rf, param_distributions = random_grid, n_iter = 100, cv = 3, verbose=2, random_state=42, n_jobs = -1)\n",
    "# Fit the random search model\n",
    "rf_random.fit(X_train, y_train)"
   ]
  },
  {
   "cell_type": "code",
   "execution_count": 354,
   "metadata": {},
   "outputs": [
    {
     "data": {
      "text/plain": [
       "{'n_estimators': 600,\n",
       " 'min_samples_split': 2,\n",
       " 'min_samples_leaf': 4,\n",
       " 'max_depth': 50,\n",
       " 'bootstrap': True}"
      ]
     },
     "execution_count": 354,
     "metadata": {},
     "output_type": "execute_result"
    }
   ],
   "source": [
    "# find the best values\n",
    "print(rf_random.best_params_)"
   ]
  },
  {
   "cell_type": "code",
   "execution_count": 355,
   "metadata": {},
   "outputs": [
    {
     "data": {
      "text/plain": [
       "RandomForestRegressor(bootstrap=True, ccp_alpha=0.0, criterion='mse',\n",
       "                      max_depth=50, max_features='auto', max_leaf_nodes=None,\n",
       "                      max_samples=None, min_impurity_decrease=0.0,\n",
       "                      min_impurity_split=None, min_samples_leaf=4,\n",
       "                      min_samples_split=2, min_weight_fraction_leaf=0.0,\n",
       "                      n_estimators=600, n_jobs=None, oob_score=False,\n",
       "                      random_state=None, verbose=0, warm_start=False)"
      ]
     },
     "execution_count": 355,
     "metadata": {},
     "output_type": "execute_result"
    }
   ],
   "source": [
    "# train model on best found value\n",
    "rf_model = RandomForestRegressor(n_estimators=600,min_samples_split=2,min_samples_leaf=4,max_depth=50,bootstrap=True)\n",
    "rf_model.fit(X_train, y_train) "
   ]
  },
  {
   "cell_type": "code",
   "execution_count": 356,
   "metadata": {},
   "outputs": [],
   "source": [
    "# RMSE\n",
    "def calculate_rmse(y_true, y_pred):\n",
    "    return math.sqrt(mean_squared_error(y_true, y_pred))"
   ]
  },
  {
   "cell_type": "code",
   "execution_count": 357,
   "metadata": {},
   "outputs": [
    {
     "name": "stdout",
     "output_type": "stream",
     "text": [
      "Train RMSE: 468.1121674913624\n",
      "Validation RMSE: 2.9153936678675616\n"
     ]
    }
   ],
   "source": [
    "# now let's evaluate \n",
    "# calculate for the training & validation set\n",
    "y_train_pred = rf_model.predict(X_train)\n",
    "y_valid_pred = rf_model.predict(X_valid)\n",
    "\n",
    "# evaluate\n",
    "print('Train RMSE: {}'.format(calculate_rmse(y_train, y_train_pred)))\n",
    "print('Validation RMSE: {}'.format(calculate_rmse(y_valid, y_valid_pred)))"
   ]
  },
  {
   "cell_type": "code",
   "execution_count": 358,
   "metadata": {},
   "outputs": [
    {
     "data": {
      "image/png": "[encoded data removed]",
      "text/plain": [
       "<Figure size 432x288 with 1 Axes>"
      ]
     },
     "metadata": {
      "needs_background": "light"
     },
     "output_type": "display_data"
    }
   ],
   "source": [
    "# feature importance\n",
    "def random_forest_varimp(rf_model, features):\n",
    "    importances = rf_model.feature_importances_\n",
    "    indices = np.argsort(importances)\n",
    "    \n",
    "    plt.title('Feature Importance')\n",
    "    plt.barh(range(len(indices)), importances[indices], color='g', align='center')\n",
    "    plt.yticks(range(len(indices)), [features[i] for i in indices])\n",
    "    plt.xlabel('Relative Importance')\n",
    "    plt.ylabel('Features')\n",
    "    plt.show()\n",
    "    \n",
    "random_forest_varimp(rf_model, X_train.columns.values)"
   ]
  },
  {
   "cell_type": "code",
   "execution_count": 360,
   "metadata": {},
   "outputs": [
    {
     "data": {
      "text/html": [
       "<div>\n",
       "<style scoped>\n",
       "    .dataframe tbody tr th:only-of-type {\n",
       "        vertical-align: middle;\n",
       "    }\n",
       "\n",
       "    .dataframe tbody tr th {\n",
       "        vertical-align: top;\n",
       "    }\n",
       "\n",
       "    .dataframe thead th {\n",
       "        text-align: right;\n",
       "    }\n",
       "</style>\n",
       "<table border=\"1\" class=\"dataframe\">\n",
       "  <thead>\n",
       "    <tr style=\"text-align: right;\">\n",
       "      <th></th>\n",
       "      <th>Start_hour_left</th>\n",
       "      <th>Month_left</th>\n",
       "      <th>Year_left</th>\n",
       "      <th>apparent_temperature</th>\n",
       "      <th>humidity</th>\n",
       "      <th>dew_point</th>\n",
       "      <th>visibility</th>\n",
       "      <th>power</th>\n",
       "    </tr>\n",
       "  </thead>\n",
       "  <tbody>\n",
       "    <tr>\n",
       "      <th>0</th>\n",
       "      <td>0</td>\n",
       "      <td>10</td>\n",
       "      <td>2017</td>\n",
       "      <td>26.52</td>\n",
       "      <td>1</td>\n",
       "      <td>19.46</td>\n",
       "      <td>3.57</td>\n",
       "      <td>0.0</td>\n",
       "    </tr>\n",
       "    <tr>\n",
       "      <th>1</th>\n",
       "      <td>0</td>\n",
       "      <td>10</td>\n",
       "      <td>2017</td>\n",
       "      <td>26.52</td>\n",
       "      <td>1</td>\n",
       "      <td>19.46</td>\n",
       "      <td>3.57</td>\n",
       "      <td>0.0</td>\n",
       "    </tr>\n",
       "    <tr>\n",
       "      <th>2</th>\n",
       "      <td>0</td>\n",
       "      <td>10</td>\n",
       "      <td>2017</td>\n",
       "      <td>26.52</td>\n",
       "      <td>1</td>\n",
       "      <td>19.46</td>\n",
       "      <td>3.57</td>\n",
       "      <td>0.0</td>\n",
       "    </tr>\n",
       "    <tr>\n",
       "      <th>3</th>\n",
       "      <td>0</td>\n",
       "      <td>10</td>\n",
       "      <td>2017</td>\n",
       "      <td>26.52</td>\n",
       "      <td>1</td>\n",
       "      <td>19.46</td>\n",
       "      <td>3.57</td>\n",
       "      <td>0.0</td>\n",
       "    </tr>\n",
       "    <tr>\n",
       "      <th>4</th>\n",
       "      <td>1</td>\n",
       "      <td>10</td>\n",
       "      <td>2017</td>\n",
       "      <td>28.78</td>\n",
       "      <td>1</td>\n",
       "      <td>20.06</td>\n",
       "      <td>3.06</td>\n",
       "      <td>0.0</td>\n",
       "    </tr>\n",
       "  </tbody>\n",
       "</table>\n",
       "</div>"
      ],
      "text/plain": [
       "   Start_hour_left  Month_left  Year_left  apparent_temperature  humidity  \\\n",
       "0                0          10       2017                 26.52         1   \n",
       "1                0          10       2017                 26.52         1   \n",
       "2                0          10       2017                 26.52         1   \n",
       "3                0          10       2017                 26.52         1   \n",
       "4                1          10       2017                 28.78         1   \n",
       "\n",
       "   dew_point  visibility  power  \n",
       "0      19.46        3.57    0.0  \n",
       "1      19.46        3.57    0.0  \n",
       "2      19.46        3.57    0.0  \n",
       "3      19.46        3.57    0.0  \n",
       "4      20.06        3.06    0.0  "
      ]
     },
     "execution_count": 360,
     "metadata": {},
     "output_type": "execute_result"
    }
   ],
   "source": [
    "# now let's train on all data \n",
    "print(merged.head())"
   ]
  },
  {
   "cell_type": "code",
   "execution_count": null,
   "metadata": {},
   "outputs": [],
   "source": [
    "# seperate feature and target variables\n",
    "merged_Y = merged['power']\n",
    "merged_X = merged[['Start_hour_left','Month_left','Year_left',\n",
    "                   'apparent_temperature','humidity','dew_point','visibility']]"
   ]
  },
  {
   "cell_type": "code",
   "execution_count": 361,
   "metadata": {},
   "outputs": [
    {
     "name": "stdout",
     "output_type": "stream",
     "text": [
      "Features :\n",
      "    Start_hour_left  Month_left  Year_left  apparent_temperature  humidity  \\\n",
      "0                0          10       2017                 26.52         1   \n",
      "1                0          10       2017                 26.52         1   \n",
      "2                0          10       2017                 26.52         1   \n",
      "3                0          10       2017                 26.52         1   \n",
      "4                1          10       2017                 28.78         1   \n",
      "\n",
      "   dew_point  visibility  \n",
      "0      19.46        3.57  \n",
      "1      19.46        3.57  \n",
      "2      19.46        3.57  \n",
      "3      19.46        3.57  \n",
      "4      20.06        3.06  \n"
     ]
    }
   ],
   "source": [
    "# check\n",
    "print(\"Features :\\n\", merged_X.head())"
   ]
  },
  {
   "cell_type": "code",
   "execution_count": 362,
   "metadata": {},
   "outputs": [
    {
     "name": "stdout",
     "output_type": "stream",
     "text": [
      "Target :\n",
      " 0    0.0\n",
      "1    0.0\n",
      "2    0.0\n",
      "3    0.0\n",
      "4    0.0\n",
      "Name: power, dtype: float64\n"
     ]
    }
   ],
   "source": [
    "# check\n",
    "print(\"Target :\\n\", merged_Y.head())"
   ]
  },
  {
   "cell_type": "code",
   "execution_count": 364,
   "metadata": {},
   "outputs": [
    {
     "data": {
      "text/plain": [
       "RandomForestRegressor(bootstrap=True, ccp_alpha=0.0, criterion='mse',\n",
       "                      max_depth=50, max_features='auto', max_leaf_nodes=None,\n",
       "                      max_samples=None, min_impurity_decrease=0.0,\n",
       "                      min_impurity_split=None, min_samples_leaf=4,\n",
       "                      min_samples_split=2, min_weight_fraction_leaf=0.0,\n",
       "                      n_estimators=600, n_jobs=None, oob_score=False,\n",
       "                      random_state=None, verbose=0, warm_start=False)"
      ]
     },
     "execution_count": 364,
     "metadata": {},
     "output_type": "execute_result"
    }
   ],
   "source": [
    "# train model on all data\n",
    "rf_model =  RandomForestRegressor(n_estimators=600,min_samples_split=2,min_samples_leaf=4,max_depth=50,bootstrap=True)\n",
    "rf_model.fit(merged_X, merged_Y)"
   ]
  },
  {
   "cell_type": "code",
   "execution_count": 365,
   "metadata": {},
   "outputs": [],
   "source": [
    "# calculate for the test set\n",
    "y_test_pred = rf_model.predict(test)"
   ]
  },
  {
   "cell_type": "code",
   "execution_count": 366,
   "metadata": {},
   "outputs": [],
   "source": [
    "# store predictions in dataframe\n",
    "predictions = pd.DataFrame()\n",
    "predictions['datetime'] = weather_forecast['datetime_local']\n",
    "predictions['power'] = y_test_pred"
   ]
  },
  {
   "cell_type": "code",
   "execution_count": 367,
   "metadata": {},
   "outputs": [],
   "source": [
    "# save predictions in csv file\n",
    "predictions.to_csv('predictions.csv', index=False)"
   ]
  },
  {
   "cell_type": "code",
   "execution_count": 369,
   "metadata": {},
   "outputs": [],
   "source": [
    "# save the model to disk\n",
    "filename = 'finalized_model.sav'\n",
    "pickle.dump(rf_model, open(filename, 'wb'))"
   ]
  }
 ],
 "metadata": {
  "kernelspec": {
   "display_name": "Python 3",
   "language": "python",
   "name": "python3"
  },
  "language_info": {
   "codemirror_mode": {
    "name": "ipython",
    "version": 3
   },
   "file_extension": ".py",
   "mimetype": "text/x-python",
   "name": "python",
   "nbconvert_exporter": "python",
   "pygments_lexer": "ipython3",
   "version": "3.7.6"
  }
 },
 "nbformat": 4,
 "nbformat_minor": 4
}
